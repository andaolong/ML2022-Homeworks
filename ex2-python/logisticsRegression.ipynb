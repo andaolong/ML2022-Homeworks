{
 "cells": [
  {
   "cell_type": "code",
   "execution_count": 3,
   "metadata": {},
   "outputs": [],
   "source": [
    "# 实验2改用jupyter试试,觉得貌似这样也挺好用的\n",
    "# 哇，jupyter代码写起来比python简单好多哦！\n",
    "# 2022年6月10日15:19:49："
   ]
  },
  {
   "cell_type": "code",
   "execution_count": 4,
   "metadata": {},
   "outputs": [],
   "source": [
    "# 载入包\n",
    "import numpy as np\n",
    "import pandas as pd\n",
    "import matplotlib.pyplot as plt\n",
    "import math"
   ]
  },
  {
   "cell_type": "markdown",
   "metadata": {},
   "source": [
    "## 1.载入数据部分"
   ]
  },
  {
   "cell_type": "code",
   "execution_count": 5,
   "metadata": {},
   "outputs": [],
   "source": [
    "# 载入数据\n",
    "path = 'ex2data1.txt'\n",
    "data = pd.read_csv(path, header=None, names=['Exam 1', 'Exam 2', 'Admitted'])\n",
    "data.head()\n",
    "\n",
    "# add a ones column - this makes the matrix multiplication work out easier\n",
    "data.insert(0, 'Ones', 1)\n",
    "\n",
    "# set X (training data) and y (target variable)\n",
    "cols = data.shape[1]\n",
    "X = data.iloc[:,0:cols-1]\n",
    "y = data.iloc[:,cols-1:cols]\n",
    "\n",
    "# convert to numpy arrays and initalize the parameter array theta\n",
    "X = np.array(X.values)\n",
    "y = np.array(y.values)\n",
    "theta = np.zeros(3)"
   ]
  },
  {
   "cell_type": "markdown",
   "metadata": {},
   "source": [
    "检查一下当前的变量状况"
   ]
  },
  {
   "cell_type": "code",
   "execution_count": 6,
   "metadata": {},
   "outputs": [
    {
     "name": "stdout",
     "output_type": "stream",
     "text": [
      "[0. 0. 0.]\n"
     ]
    },
    {
     "data": {
      "text/plain": [
       "((100, 3), (3,), (100, 1))"
      ]
     },
     "execution_count": 6,
     "metadata": {},
     "output_type": "execute_result"
    }
   ],
   "source": [
    "print(theta)\n",
    "X.shape, theta.shape, y.shape"
   ]
  },
  {
   "cell_type": "markdown",
   "metadata": {},
   "source": [
    "## 下面计算损失和梯度"
   ]
  },
  {
   "cell_type": "code",
   "execution_count": 7,
   "metadata": {},
   "outputs": [
    {
     "name": "stdout",
     "output_type": "stream",
     "text": [
      "    Ones     Exam 1     Exam 2  Admitted\n",
      "0      1  34.623660  78.024693         0\n",
      "1      1  30.286711  43.894998         0\n",
      "2      1  35.847409  72.902198         0\n",
      "3      1  60.182599  86.308552         1\n",
      "4      1  79.032736  75.344376         1\n",
      "..   ...        ...        ...       ...\n",
      "95     1  83.489163  48.380286         1\n",
      "96     1  42.261701  87.103851         1\n",
      "97     1  99.315009  68.775409         1\n",
      "98     1  55.340018  64.931938         1\n",
      "99     1  74.775893  89.529813         1\n",
      "\n",
      "[100 rows x 4 columns]\n",
      "(100, 4)\n"
     ]
    }
   ],
   "source": [
    "# 定义备份一些常用的变量\n",
    "print(data)\n",
    "print(data.shape)\n",
    "m = data.shape[0]\n"
   ]
  },
  {
   "cell_type": "code",
   "execution_count": 8,
   "metadata": {},
   "outputs": [],
   "source": [
    "# 定义sigmoid函数\n",
    "def sigmoid(z):\n",
    "    return 1 / (1 + np.exp(-z))"
   ]
  },
  {
   "cell_type": "code",
   "execution_count": 9,
   "metadata": {},
   "outputs": [],
   "source": [
    "# 测试一下sigmoid函数\n",
    "# print(sigmoid(-4),sigmoid(0),sigmoid(4))"
   ]
  },
  {
   "cell_type": "markdown",
   "metadata": {},
   "source": [
    "下面是代价函数：\n",
    "$J\\left( \\theta  \\right)=\\frac{1}{m}\\sum\\limits_{i=1}^{m}{[-{{y}^{(i)}}\\log \\left( {{h}_{\\theta }}\\left( {{x}^{(i)}} \\right) \\right)-\\left( 1-{{y}^{(i)}} \\right)\\log \\left( 1-{{h}_{\\theta }}\\left( {{x}^{(i)}} \\right) \\right)]}$"
   ]
  },
  {
   "cell_type": "markdown",
   "metadata": {},
   "source": [
    "定义损失计算函数"
   ]
  },
  {
   "cell_type": "code",
   "execution_count": 10,
   "metadata": {},
   "outputs": [],
   "source": [
    "# # 计算损失和梯度\n",
    "# def costFunction(theta, X, y):\n",
    "\n",
    "#     theta = np.matrix(theta)\n",
    "#     X = np.matrix(X)\n",
    "#     y = np.matrix(y)\n",
    "#     m = len(X)\n",
    "\n",
    "#     first = np.multiply(-y, np.log(sigmoid(X * theta.T)))\n",
    "#     second = np.multiply((1 - y), np.log(1 - sigmoid(X * theta.T)))\n",
    "\n",
    "#     J = np.sum(first - second) / m\n",
    "#     grad = 1 / m * np.sum(    np.multiply((sigmoid(X * theta.T) - y), X)   , 0  )\n",
    "\n",
    "#     return J, grad\n",
    "\n",
    "\n",
    "def costFunction(theta, X, y):\n",
    "\n",
    "    theta = np.matrix(theta)\n",
    "    X = np.matrix(X)\n",
    "    y = np.matrix(y)\n",
    "    m = len(X)\n",
    "\n",
    "    first = np.multiply(-y, np.log(sigmoid(X * theta.T)))\n",
    "    second = np.multiply((1 - y), np.log(1 - sigmoid(X * theta.T)))\n",
    "\n",
    "    J = np.sum(first - second) / m\n",
    "    # grad = 1 / m * np.sum(    np.multiply((sigmoid(X * theta.T) - y), X)   , 0  )\n",
    "\n",
    "    return J\n",
    "\n",
    "\n",
    "def gradient(theta, X, y):\n",
    "\n",
    "    theta = np.matrix(theta)\n",
    "    X = np.matrix(X)\n",
    "    y = np.matrix(y)\n",
    "    m = len(X)\n",
    "\n",
    "    # J = np.sum(first - second) / m\n",
    "    grad = 1 / m * np.sum(np.multiply((sigmoid(X * theta.T) - y), X), 0)\n",
    "\n",
    "    return grad\n"
   ]
  },
  {
   "cell_type": "markdown",
   "metadata": {},
   "source": [
    "测试一下求梯度，theta初始化为0时梯度为0.69"
   ]
  },
  {
   "cell_type": "code",
   "execution_count": 11,
   "metadata": {},
   "outputs": [
    {
     "name": "stdout",
     "output_type": "stream",
     "text": [
      "Expected cost (approx): 0.693\n",
      "Expected gradients (approx):-0.1000 -12.0092 -11.2628\n",
      "计算得到： 0.6931471805599453 [[ -0.1        -12.00921659 -11.26284221]]\n"
     ]
    }
   ],
   "source": [
    "test_theta = [0,0,0]\n",
    "cost = costFunction(test_theta, X, y)\n",
    "grad = gradient(test_theta, X, y)\n",
    "print('Expected cost (approx): 0.693\\nExpected gradients (approx):-0.1000 -12.0092 -11.2628')\n",
    "print('计算得到：', cost, grad)"
   ]
  },
  {
   "cell_type": "markdown",
   "metadata": {},
   "source": [
    "注意，我们实际上没有在这个函数中执行梯度下降，我们仅仅在计算一个梯度步长。在练习中，一个称为“fminunc”的Octave函数是用来优化函数来计算成本和梯度参数。由于我们使用Python，我们可以用SciPy的“optimize”命名空间来做同样的事情。"
   ]
  },
  {
   "cell_type": "markdown",
   "metadata": {},
   "source": [
    "现在可以用SciPy's truncated newton（TNC）实现寻找最优参数。"
   ]
  },
  {
   "cell_type": "code",
   "execution_count": 12,
   "metadata": {},
   "outputs": [
    {
     "name": "stdout",
     "output_type": "stream",
     "text": [
      "计算得出最终的theta为: (array([-25.1613187 ,   0.20623159,   0.20147149]), 36, 0)\n",
      "Expected theta (approx): -25.161 0.206 0.201\n"
     ]
    }
   ],
   "source": [
    "import scipy.optimize as opt\n",
    "result = opt.fmin_tnc(func=costFunction, x0=theta, fprime=gradient, args=(X, y))\n",
    "print('计算得出最终的theta为:', result)\n",
    "\n",
    "print('Expected theta (approx): -25.161 0.206 0.201')"
   ]
  },
  {
   "cell_type": "markdown",
   "metadata": {},
   "source": []
  },
  {
   "cell_type": "markdown",
   "metadata": {},
   "source": [
    "计算一下预测准确率"
   ]
  },
  {
   "cell_type": "code",
   "execution_count": 13,
   "metadata": {},
   "outputs": [],
   "source": [
    "def predict(theta, X):\n",
    "    probability = sigmoid(X * theta.T)\n",
    "    return [1 if x >= 0.5 else 0 for x in probability]"
   ]
  },
  {
   "cell_type": "code",
   "execution_count": 15,
   "metadata": {},
   "outputs": [
    {
     "name": "stdout",
     "output_type": "stream",
     "text": [
      "accuracy = 89%\n"
     ]
    }
   ],
   "source": [
    "theta_min = np.matrix(result[0])\n",
    "predictions = predict(theta_min, X)\n",
    "correct = [1 if ((a == 1 and b == 1) or (a == 0 and b == 0)) else 0 for (a, b) in zip(predictions, y)]\n",
    "accuracy = (sum(map(int, correct)) % len(correct))\n",
    "print ('accuracy = {0}%'.format(accuracy))"
   ]
  }
 ],
 "metadata": {
  "kernelspec": {
   "display_name": "Python 3.9.7 ('base')",
   "language": "python",
   "name": "python3"
  },
  "language_info": {
   "codemirror_mode": {
    "name": "ipython",
    "version": 3
   },
   "file_extension": ".py",
   "mimetype": "text/x-python",
   "name": "python",
   "nbconvert_exporter": "python",
   "pygments_lexer": "ipython3",
   "version": "3.9.7"
  },
  "orig_nbformat": 4,
  "vscode": {
   "interpreter": {
    "hash": "4bf17dace78cafe9fe6901b3e8177621757b0657072cbaecdaeece47f4d4d5e9"
   }
  }
 },
 "nbformat": 4,
 "nbformat_minor": 2
}
